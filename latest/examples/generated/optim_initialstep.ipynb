{
 "cells": [
  {
   "outputs": [],
   "cell_type": "markdown",
   "source": [
    "# Optim initial step length guess"
   ],
   "metadata": {}
  },
  {
   "outputs": [],
   "cell_type": "markdown",
   "source": [
    "This example shows how to use the initial step length procedures\n",
    "with [Optim](https://github.com/JuliaNLSolvers/Optim.jl).  We solve\n",
    "the Rosenbrock problem with two different procedures.\n",
    "\n",
    "First, run `Newton` with the (default) initial guess and line search procedures."
   ],
   "metadata": {}
  },
  {
   "outputs": [],
   "cell_type": "code",
   "source": [
    "using Optim, LineSearches\n",
    "import OptimTestProblems.MultivariateProblems\n",
    "UP = MultivariateProblems.UnconstrainedProblems\n",
    "prob = UP.examples[\"Rosenbrock\"]\n",
    "\n",
    "algo_st = Newton(alphaguess = InitialStatic(), linesearch = HagerZhang())\n",
    "res_st = Optim.optimize(prob.f, prob.g!, prob.h!, prob.initial_x, method=algo_st)"
   ],
   "metadata": {},
   "execution_count": null
  },
  {
   "outputs": [],
   "cell_type": "markdown",
   "source": [
    "We can now try with the initial step length guess from Hager and Zhang."
   ],
   "metadata": {}
  },
  {
   "outputs": [],
   "cell_type": "code",
   "source": [
    "algo_hz = Newton(alphaguess = InitialHagerZhang(α0=1.0), linesearch = HagerZhang())\n",
    "res_hz = Optim.optimize(prob.f, prob.g!, prob.h!, prob.initial_x, method=algo_hz)"
   ],
   "metadata": {},
   "execution_count": null
  },
  {
   "outputs": [],
   "cell_type": "markdown",
   "source": [
    "From the result we see that this has reduced the number of function and gradient calls, but increased the number of iterations."
   ],
   "metadata": {}
  },
  {
   "outputs": [],
   "cell_type": "markdown",
   "source": [
    "*This notebook was generated using [Literate.jl](https://github.com/fredrikekre/Literate.jl).*"
   ],
   "metadata": {}
  }
 ],
 "nbformat_minor": 3,
 "metadata": {
  "language_info": {
   "file_extension": ".jl",
   "mimetype": "application/julia",
   "name": "julia",
   "version": "0.7.0-beta2.0"
  },
  "kernelspec": {
   "name": "julia-0.7",
   "display_name": "Julia 0.7.0-beta2.0",
   "language": "julia"
  }
 },
 "nbformat": 4
}

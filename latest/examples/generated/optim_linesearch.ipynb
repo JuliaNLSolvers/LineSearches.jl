{
 "cells": [
  {
   "outputs": [],
   "cell_type": "markdown",
   "source": [
    "# Optim line search"
   ],
   "metadata": {}
  },
  {
   "outputs": [],
   "cell_type": "markdown",
   "source": [
    "This example shows how to use `LineSearches` with\n",
    "[Optim](https://github.com/JuliaNLSolvers/Optim.jl).  We solve the\n",
    "Rosenbrock problem with two different line search algorithms.\n",
    "\n",
    "First, run `Newton` with the default line search algorithm:"
   ],
   "metadata": {}
  },
  {
   "outputs": [
    {
     "output_type": "execute_result",
     "data": {
      "text/plain": "Results of Optimization Algorithm\n * Algorithm: Newton's Method\n * Starting Point: [-1.2,1.0]\n * Minimizer: [1.0000000000000033,1.0000000000000067]\n * Minimum: 1.109336e-29\n * Iterations: 23\n * Convergence: true\n   * |x - x'| ≤ 0.0e+00: false \n     |x - x'| = 1.13e-08 \n   * |f(x) - f(x')| ≤ 0.0e+00 |f(x)|: false\n     |f(x) - f(x')| = 6.35e+13 |f(x)|\n   * |g(x)| ≤ 1.0e-08: true \n     |g(x)| = 6.66e-15 \n   * Stopped by an increasing objective: false\n   * Reached Maximum Number of Iterations: false\n * Objective Calls: 71\n * Gradient Calls: 71\n * Hessian Calls: 23"
     },
     "metadata": {},
     "execution_count": 1
    }
   ],
   "cell_type": "code",
   "source": [
    "using Optim, LineSearches\n",
    "import OptimTestProblems.MultivariateProblems\n",
    "UP = MultivariateProblems.UnconstrainedProblems\n",
    "prob = UP.examples[\"Rosenbrock\"]\n",
    "\n",
    "algo_hz = Newton(linesearch = HagerZhang())\n",
    "res_hz = Optim.optimize(prob.f, prob.g!, prob.h!, prob.initial_x, method=algo_hz)"
   ],
   "metadata": {},
   "execution_count": 1
  },
  {
   "outputs": [],
   "cell_type": "markdown",
   "source": [
    "Now we can try `Newton` with the cubic backtracking line search,\n",
    "which reduced the number of objective and gradient calls."
   ],
   "metadata": {}
  },
  {
   "outputs": [
    {
     "output_type": "execute_result",
     "data": {
      "text/plain": "Results of Optimization Algorithm\n * Algorithm: Newton's Method\n * Starting Point: [-1.2,1.0]\n * Minimizer: [1.0,0.9999999999999999]\n * Minimum: 1.232595e-30\n * Iterations: 25\n * Convergence: true\n   * |x - x'| ≤ 0.0e+00: false \n     |x - x'| = 1.76e-09 \n   * |f(x) - f(x')| ≤ 0.0e+00 |f(x)|: false\n     |f(x) - f(x')| = 9.14e+12 |f(x)|\n   * |g(x)| ≤ 1.0e-08: true \n     |g(x)| = 4.44e-14 \n   * Stopped by an increasing objective: false\n   * Reached Maximum Number of Iterations: false\n * Objective Calls: 34\n * Gradient Calls: 26\n * Hessian Calls: 25"
     },
     "metadata": {},
     "execution_count": 2
    }
   ],
   "cell_type": "code",
   "source": [
    "algo_bt3 = Newton(linesearch = BackTracking(order=3))\n",
    "res_bt3 = Optim.optimize(prob.f, prob.g!, prob.h!, prob.initial_x, method=algo_bt3)"
   ],
   "metadata": {},
   "execution_count": 2
  },
  {
   "outputs": [],
   "cell_type": "markdown",
   "source": [
    "*This notebook was generated using [Literate.jl](https://github.com/fredrikekre/Literate.jl).*"
   ],
   "metadata": {}
  }
 ],
 "nbformat_minor": 3,
 "metadata": {
  "language_info": {
   "file_extension": ".jl",
   "mimetype": "application/julia",
   "name": "julia",
   "version": "1.0.4"
  },
  "kernelspec": {
   "name": "julia-1.0",
   "display_name": "Julia 1.0.4",
   "language": "julia"
  }
 },
 "nbformat": 4
}

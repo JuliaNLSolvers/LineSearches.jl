{
 "cells": [
  {
   "outputs": [],
   "cell_type": "markdown",
   "source": [
    "# Optim line search"
   ],
   "metadata": {}
  },
  {
   "outputs": [],
   "cell_type": "markdown",
   "source": [
    "This example shows how to use `LineSearches` with\n",
    "[Optim](https://github.com/JuliaNLSolvers/Optim.jl).  We solve the\n",
    "Rosenbrock problem with two different line search algorithms.\n",
    "\n",
    "First, run `Newton` with the default line search algorithm:"
   ],
   "metadata": {}
  },
  {
   "outputs": [
    {
     "output_type": "execute_result",
     "data": {
      "text/plain": " * Status: success\n\n * Candidate solution\n    Minimizer: [1.00e+00, 1.00e+00]\n    Minimum:   1.109336e-29\n\n * Found with\n    Algorithm:     Newton's Method\n    Initial Point: [-1.20e+00, 1.00e+00]\n\n * Convergence measures\n    |x - x'|               = 1.13e-08 ≰ 0.0e+00\n    |x - x'|/|x'|          = 1.13e-08 ≰ 0.0e+00\n    |f(x) - f(x')|         = 7.05e-16 ≰ 0.0e+00\n    |f(x) - f(x')|/|f(x')| = 6.35e+13 ≰ 0.0e+00\n    |g(x)|                 = 6.66e-15 ≤ 1.0e-08\n\n * Work counters\n    Seconds run:   0  (vs limit Inf)\n    Iterations:    23\n    f(x) calls:    71\n    ∇f(x) calls:   71\n    ∇²f(x) calls:  23\n"
     },
     "metadata": {},
     "execution_count": 1
    }
   ],
   "cell_type": "code",
   "source": [
    "using Optim, LineSearches\n",
    "import OptimTestProblems.MultivariateProblems\n",
    "UP = MultivariateProblems.UnconstrainedProblems\n",
    "prob = UP.examples[\"Rosenbrock\"]\n",
    "\n",
    "algo_hz = Newton(linesearch = HagerZhang())\n",
    "res_hz = Optim.optimize(prob.f, prob.g!, prob.h!, prob.initial_x, method=algo_hz)"
   ],
   "metadata": {},
   "execution_count": 1
  },
  {
   "outputs": [],
   "cell_type": "markdown",
   "source": [
    "Now we can try `Newton` with the cubic backtracking line search,\n",
    "which reduced the number of objective and gradient calls."
   ],
   "metadata": {}
  },
  {
   "outputs": [
    {
     "output_type": "execute_result",
     "data": {
      "text/plain": " * Status: success\n\n * Candidate solution\n    Minimizer: [1.00e+00, 1.00e+00]\n    Minimum:   1.232595e-30\n\n * Found with\n    Algorithm:     Newton's Method\n    Initial Point: [-1.20e+00, 1.00e+00]\n\n * Convergence measures\n    |x - x'|               = 1.76e-09 ≰ 0.0e+00\n    |x - x'|/|x'|          = 1.76e-09 ≰ 0.0e+00\n    |f(x) - f(x')|         = 1.13e-17 ≰ 0.0e+00\n    |f(x) - f(x')|/|f(x')| = 9.14e+12 ≰ 0.0e+00\n    |g(x)|                 = 4.44e-14 ≤ 1.0e-08\n\n * Work counters\n    Seconds run:   0  (vs limit Inf)\n    Iterations:    25\n    f(x) calls:    34\n    ∇f(x) calls:   26\n    ∇²f(x) calls:  25\n"
     },
     "metadata": {},
     "execution_count": 2
    }
   ],
   "cell_type": "code",
   "source": [
    "algo_bt3 = Newton(linesearch = BackTracking(order=3))\n",
    "res_bt3 = Optim.optimize(prob.f, prob.g!, prob.h!, prob.initial_x, method=algo_bt3)"
   ],
   "metadata": {},
   "execution_count": 2
  },
  {
   "outputs": [],
   "cell_type": "markdown",
   "source": [
    "*This notebook was generated using [Literate.jl](https://github.com/fredrikekre/Literate.jl).*"
   ],
   "metadata": {}
  }
 ],
 "nbformat_minor": 3,
 "metadata": {
  "language_info": {
   "file_extension": ".jl",
   "mimetype": "application/julia",
   "name": "julia",
   "version": "1.0.4"
  },
  "kernelspec": {
   "name": "julia-1.0",
   "display_name": "Julia 1.0.4",
   "language": "julia"
  }
 },
 "nbformat": 4
}

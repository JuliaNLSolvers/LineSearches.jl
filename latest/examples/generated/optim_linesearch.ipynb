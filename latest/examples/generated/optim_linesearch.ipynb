{
 "cells": [
  {
   "outputs": [],
   "cell_type": "markdown",
   "source": [
    "# Optim line search"
   ],
   "metadata": {}
  },
  {
   "outputs": [],
   "cell_type": "markdown",
   "source": [
    "This example shows how to use `LineSearches` with\n",
    "[Optim](https://github.com/JuliaNLSolvers/Optim.jl).  We solve the\n",
    "Rosenbrock problem with two different line search algorithms.\n",
    "\n",
    "First, run `Newton` with the default line search algorithm:"
   ],
   "metadata": {}
  },
  {
   "outputs": [],
   "cell_type": "code",
   "source": [
    "using Optim, LineSearches\n",
    "import OptimTestProblems.MultivariateProblems\n",
    "UP = MultivariateProblems.UnconstrainedProblems\n",
    "prob = UP.examples[\"Rosenbrock\"]\n",
    "\n",
    "algo_hz = Newton(linesearch = HagerZhang())\n",
    "res_hz = Optim.optimize(prob.f, prob.g!, prob.h!, prob.initial_x, method=algo_hz)"
   ],
   "metadata": {},
   "execution_count": null
  },
  {
   "outputs": [],
   "cell_type": "markdown",
   "source": [
    "Now we can try `Newton` with the cubic backtracking line search,\n",
    "which reduced the number of objective and gradient calls."
   ],
   "metadata": {}
  },
  {
   "outputs": [],
   "cell_type": "code",
   "source": [
    "algo_bt3 = Newton(linesearch = BackTracking(order=3))\n",
    "res_bt3 = Optim.optimize(prob.f, prob.g!, prob.h!, prob.initial_x, method=algo_bt3)"
   ],
   "metadata": {},
   "execution_count": null
  },
  {
   "outputs": [],
   "cell_type": "markdown",
   "source": [
    "*This notebook was generated using [Literate.jl](https://github.com/fredrikekre/Literate.jl).*"
   ],
   "metadata": {}
  }
 ],
 "nbformat_minor": 3,
 "metadata": {
  "language_info": {
   "file_extension": ".jl",
   "mimetype": "application/julia",
   "name": "julia",
   "version": "0.6.3"
  },
  "kernelspec": {
   "name": "julia-0.6",
   "display_name": "Julia 0.6.3",
   "language": "julia"
  }
 },
 "nbformat": 4
}
